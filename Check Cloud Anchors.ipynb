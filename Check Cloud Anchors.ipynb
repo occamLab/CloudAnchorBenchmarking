{
 "cells": [
  {
   "cell_type": "code",
   "execution_count": 3,
   "id": "d3deadd1",
   "metadata": {},
   "outputs": [],
   "source": [
    "import glob\n",
    "import json\n",
    "import numpy as np\n",
    "import matplotlib.pyplot as plt\n",
    "import os\n",
    "\n",
    "def plot_path(pose_matrices):\n",
    "    fig = plt.figure()\n",
    "    ax = plt.axes()\n",
    "    plt.scatter(pose_matrices[:,2,3], pose_matrices[:,0,3])\n",
    "    ax.axis('equal')\n",
    "    return fig, ax\n",
    "\n",
    "def analyze_file(file_path):\n",
    "    print(file_path)\n",
    "    with open(file_path) as f:\n",
    "        d = json.load(f)\n",
    "        resolutions = d['cloudAnchorResolutions'] if 'cloudAnchorResolutions' in d else [] \n",
    "        cloud_landmarks = d['cloudAnchorLandmarks'] if 'cloudAnchorLandmarks' in d else []\n",
    "        poses = d['poses']\n",
    "        resolved_anchor_set = set(map(lambda x: x['cloudID'], resolutions))\n",
    "        unresolved_anchors = set(cloud_landmarks) - resolved_anchor_set\n",
    "        pose_matrices = np.asarray(poses).reshape(-1, 4, 4).swapaxes(1,2)\n",
    "        fig, ax = plot_path(pose_matrices)\n",
    "        plt.show(fig)\n",
    "        \n",
    "        for cloudID in resolved_anchor_set:\n",
    "            fig = plot_path(pose_matrices)\n",
    "            anchor_resolutions = list(filter(lambda x: x['cloudID'] == cloudID, resolutions))\n",
    "            anchor_poses = np.asarray(list(map(lambda x: x['pose'], anchor_resolutions))).reshape(-1, 4, 4).swapaxes(1, 2)\n",
    "            map_poses = np.asarray(list(map(lambda x: x['mapPose'], anchor_resolutions))).reshape(-1, 4, 4).swapaxes(1, 2)\n",
    "            print(anchor_poses.shape)\n",
    "            plt.scatter(anchor_poses[:,2,3], anchor_poses[:,0,3], color='k')\n",
    "            plt.quiver(anchor_poses[:,2,3], anchor_poses[:,0,3], anchor_poses[:,0,0], anchor_poses[:,2,0], color='r')\n",
    "            plt.quiver(anchor_poses[:,2,3], anchor_poses[:,0,3], anchor_poses[:,0,2], anchor_poses[:,2,2], color='y')\n",
    "            plt.legend(['path', 'cloud anchor positions', 'cloud anchor x-axis', 'cloud anchor z-axis'])\n",
    "            plt.show()\n",
    "        return (file_path, resolved_anchor_set, unresolved_anchors)\n",
    "\n",
    "all_logs = sorted(glob.glob('logs/*.log'), key=os.path.getmtime, reverse=True)"
   ]
  },
  {
   "cell_type": "code",
   "execution_count": 4,
   "id": "3683c5c1",
   "metadata": {
    "scrolled": false
   },
   "outputs": [
    {
     "data": {
      "application/vnd.jupyter.widget-view+json": {
       "model_id": "dfda761e25a1474faaaeba394b904573",
       "version_major": 2,
       "version_minor": 0
      },
      "text/plain": [
       "interactive(children=(Dropdown(description='file_path', options=('logs/MAC 209_MAC 209 couch_B494328F-4BE6-44B…"
      ]
     },
     "metadata": {},
     "output_type": "display_data"
    },
    {
     "data": {
      "text/plain": [
       "<function __main__.analyze_file(file_path)>"
      ]
     },
     "execution_count": 4,
     "metadata": {},
     "output_type": "execute_result"
    }
   ],
   "source": [
    "from ipywidgets import interact, interactive, fixed, interact_manual\n",
    "import ipywidgets as widgets\n",
    "\n",
    "interact(analyze_file, file_path=all_logs)"
   ]
  }
 ],
 "metadata": {
  "kernelspec": {
   "display_name": "Python 3 (ipykernel)",
   "language": "python",
   "name": "python3"
  },
  "language_info": {
   "codemirror_mode": {
    "name": "ipython",
    "version": 3
   },
   "file_extension": ".py",
   "mimetype": "text/x-python",
   "name": "python",
   "nbconvert_exporter": "python",
   "pygments_lexer": "ipython3",
   "version": "3.11.3"
  }
 },
 "nbformat": 4,
 "nbformat_minor": 5
}
